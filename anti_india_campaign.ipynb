{
 "cells": [
  {
   "cell_type": "code",
   "execution_count": 1,
   "id": "951aba0f-31d9-46f8-bd66-f0203bb1b446",
   "metadata": {},
   "outputs": [
    {
     "name": "stdout",
     "output_type": "stream",
     "text": [
      "Libraries imported successfully!\n"
     ]
    }
   ],
   "source": [
    "import pandas as pd\n",
    "import regex as re\n",
    "import matplotlib.pyplot as plt\n",
    "\n",
    "print(\"Libraries imported successfully!\")\n"
   ]
  },
  {
   "cell_type": "code",
   "execution_count": 2,
   "id": "fa4c9dc1-01ad-41ba-97e2-5b469591c997",
   "metadata": {},
   "outputs": [
    {
     "name": "stdout",
     "output_type": "stream",
     "text": [
      "Anti-India keyword list loaded: ['anti-india', 'boycott india', 'down with india', 'anti india movement', 'india out', '#boycottindia', '#antiindia', 'remove india', 'break india', 'down india', 'end india', 'stop india']\n"
     ]
    }
   ],
   "source": [
    "# Keywords, phrases, and hashtags related to anti-India campaigns\n",
    "ANTI_INDIA_KEYWORDS = [\n",
    "    \"anti-india\", \"boycott india\", \"down with india\", \"anti india movement\",\n",
    "    \"india out\", \"#boycottindia\", \"#antiindia\", \"remove india\", \"break india\",\n",
    "    \"down india\", \"end india\", \"stop india\"\n",
    "]\n",
    "\n",
    "# Normalize keywords to lowercase for detection\n",
    "ANTI_INDIA_KEYWORDS = [k.lower() for k in ANTI_INDIA_KEYWORDS]\n",
    "print(\"Anti-India keyword list loaded:\", ANTI_INDIA_KEYWORDS)\n"
   ]
  },
  {
   "cell_type": "code",
   "execution_count": 3,
   "id": "e7a513d2-a0a5-4ad4-baba-525c9291502d",
   "metadata": {},
   "outputs": [
    {
     "data": {
      "text/html": [
       "<div>\n",
       "<style scoped>\n",
       "    .dataframe tbody tr th:only-of-type {\n",
       "        vertical-align: middle;\n",
       "    }\n",
       "\n",
       "    .dataframe tbody tr th {\n",
       "        vertical-align: top;\n",
       "    }\n",
       "\n",
       "    .dataframe thead th {\n",
       "        text-align: right;\n",
       "    }\n",
       "</style>\n",
       "<table border=\"1\" class=\"dataframe\">\n",
       "  <thead>\n",
       "    <tr style=\"text-align: right;\">\n",
       "      <th></th>\n",
       "      <th>id</th>\n",
       "      <th>platform</th>\n",
       "      <th>message</th>\n",
       "    </tr>\n",
       "  </thead>\n",
       "  <tbody>\n",
       "    <tr>\n",
       "      <th>0</th>\n",
       "      <td>1</td>\n",
       "      <td>Twitter</td>\n",
       "      <td>Join the #BoycottIndia trend now!</td>\n",
       "    </tr>\n",
       "    <tr>\n",
       "      <th>1</th>\n",
       "      <td>2</td>\n",
       "      <td>Facebook</td>\n",
       "      <td>Happy Independence Day! Proud to be Indian</td>\n",
       "    </tr>\n",
       "    <tr>\n",
       "      <th>2</th>\n",
       "      <td>3</td>\n",
       "      <td>Instagram</td>\n",
       "      <td>Stop India and break unity</td>\n",
       "    </tr>\n",
       "    <tr>\n",
       "      <th>3</th>\n",
       "      <td>4</td>\n",
       "      <td>Twitter</td>\n",
       "      <td>Check out my travel vlog in India</td>\n",
       "    </tr>\n",
       "    <tr>\n",
       "      <th>4</th>\n",
       "      <td>5</td>\n",
       "      <td>YouTube</td>\n",
       "      <td>Anti-India propaganda spreading fast on social...</td>\n",
       "    </tr>\n",
       "  </tbody>\n",
       "</table>\n",
       "</div>"
      ],
      "text/plain": [
       "   id   platform                                            message\n",
       "0   1    Twitter                  Join the #BoycottIndia trend now!\n",
       "1   2   Facebook         Happy Independence Day! Proud to be Indian\n",
       "2   3  Instagram                         Stop India and break unity\n",
       "3   4    Twitter                  Check out my travel vlog in India\n",
       "4   5    YouTube  Anti-India propaganda spreading fast on social..."
      ]
     },
     "execution_count": 3,
     "metadata": {},
     "output_type": "execute_result"
    }
   ],
   "source": [
    "# Create a sample dataset for Anti-India Campaign detection\n",
    "data = pd.DataFrame({\n",
    "    \"id\": [1, 2, 3, 4, 5],\n",
    "    \"platform\": [\"Twitter\", \"Facebook\", \"Instagram\", \"Twitter\", \"YouTube\"],\n",
    "    \"message\": [\n",
    "        \"Join the #BoycottIndia trend now!\",  # suspicious\n",
    "        \"Happy Independence Day! Proud to be Indian\",  # normal\n",
    "        \"Stop India and break unity\",  # suspicious\n",
    "        \"Check out my travel vlog in India\",  # normal\n",
    "        \"Anti-India propaganda spreading fast on social media\"  # suspicious\n",
    "    ]\n",
    "})\n",
    "\n",
    "data\n"
   ]
  },
  {
   "cell_type": "code",
   "execution_count": 4,
   "id": "8e09818a-c217-40ac-9478-226681ab7d9a",
   "metadata": {},
   "outputs": [],
   "source": [
    "def normalize(text: str) -> str:\n",
    "    \"\"\"Convert text to lowercase and remove extra spaces.\"\"\"\n",
    "    return re.sub(r\"\\s+\", \" \", text.casefold()).strip()\n",
    "\n",
    "def spaced_variant(word: str) -> str:\n",
    "    r\"\"\"Handles spaced/obfuscated keywords: boycott -> b\\W*o\\W*y\\W*c\\W*o\\W*t\\W*t\"\"\"\n",
    "    return r\"\".join([re.escape(ch) + r\"\\W*\" for ch in word])\n",
    "\n",
    "def detect_terms(text: str, keywords):\n",
    "    \"\"\"Return a list of detected keywords in the text.\"\"\"\n",
    "    t = normalize(text)\n",
    "    hits = set()\n",
    "    for kw in keywords:\n",
    "        if kw in t:\n",
    "            hits.add(kw)\n",
    "        else:\n",
    "            # catch spaced or obfuscated variants\n",
    "            if re.search(spaced_variant(kw), t, flags=re.I):\n",
    "                hits.add(kw)\n",
    "    return sorted(hits)\n"
   ]
  },
  {
   "cell_type": "code",
   "execution_count": 5,
   "id": "87796ea4-d3d4-405d-8d3d-389df8b3fbb7",
   "metadata": {},
   "outputs": [
    {
     "data": {
      "text/html": [
       "<div>\n",
       "<style scoped>\n",
       "    .dataframe tbody tr th:only-of-type {\n",
       "        vertical-align: middle;\n",
       "    }\n",
       "\n",
       "    .dataframe tbody tr th {\n",
       "        vertical-align: top;\n",
       "    }\n",
       "\n",
       "    .dataframe thead th {\n",
       "        text-align: right;\n",
       "    }\n",
       "</style>\n",
       "<table border=\"1\" class=\"dataframe\">\n",
       "  <thead>\n",
       "    <tr style=\"text-align: right;\">\n",
       "      <th></th>\n",
       "      <th>id</th>\n",
       "      <th>platform</th>\n",
       "      <th>message</th>\n",
       "      <th>matches</th>\n",
       "      <th>flagged</th>\n",
       "    </tr>\n",
       "  </thead>\n",
       "  <tbody>\n",
       "    <tr>\n",
       "      <th>0</th>\n",
       "      <td>1</td>\n",
       "      <td>Twitter</td>\n",
       "      <td>Join the #BoycottIndia trend now!</td>\n",
       "      <td>[#boycottindia]</td>\n",
       "      <td>True</td>\n",
       "    </tr>\n",
       "    <tr>\n",
       "      <th>1</th>\n",
       "      <td>2</td>\n",
       "      <td>Facebook</td>\n",
       "      <td>Happy Independence Day! Proud to be Indian</td>\n",
       "      <td>[]</td>\n",
       "      <td>False</td>\n",
       "    </tr>\n",
       "    <tr>\n",
       "      <th>2</th>\n",
       "      <td>3</td>\n",
       "      <td>Instagram</td>\n",
       "      <td>Stop India and break unity</td>\n",
       "      <td>[stop india]</td>\n",
       "      <td>True</td>\n",
       "    </tr>\n",
       "    <tr>\n",
       "      <th>3</th>\n",
       "      <td>4</td>\n",
       "      <td>Twitter</td>\n",
       "      <td>Check out my travel vlog in India</td>\n",
       "      <td>[]</td>\n",
       "      <td>False</td>\n",
       "    </tr>\n",
       "    <tr>\n",
       "      <th>4</th>\n",
       "      <td>5</td>\n",
       "      <td>YouTube</td>\n",
       "      <td>Anti-India propaganda spreading fast on social...</td>\n",
       "      <td>[anti-india]</td>\n",
       "      <td>True</td>\n",
       "    </tr>\n",
       "  </tbody>\n",
       "</table>\n",
       "</div>"
      ],
      "text/plain": [
       "   id   platform                                            message  \\\n",
       "0   1    Twitter                  Join the #BoycottIndia trend now!   \n",
       "1   2   Facebook         Happy Independence Day! Proud to be Indian   \n",
       "2   3  Instagram                         Stop India and break unity   \n",
       "3   4    Twitter                  Check out my travel vlog in India   \n",
       "4   5    YouTube  Anti-India propaganda spreading fast on social...   \n",
       "\n",
       "           matches  flagged  \n",
       "0  [#boycottindia]     True  \n",
       "1               []    False  \n",
       "2     [stop india]     True  \n",
       "3               []    False  \n",
       "4     [anti-india]     True  "
      ]
     },
     "execution_count": 5,
     "metadata": {},
     "output_type": "execute_result"
    }
   ],
   "source": [
    "data[\"matches\"] = data[\"message\"].apply(lambda x: detect_terms(x, ANTI_INDIA_KEYWORDS))\n",
    "data[\"flagged\"] = data[\"matches\"].apply(lambda x: len(x) > 0)\n",
    "data\n"
   ]
  },
  {
   "cell_type": "code",
   "execution_count": 6,
   "id": "c68e7021-0032-4990-aaf8-77b17ce86994",
   "metadata": {},
   "outputs": [
    {
     "name": "stdout",
     "output_type": "stream",
     "text": [
      "Flagged rate: 60.00%\n",
      "\n",
      "Flag rate by platform:\n",
      " platform\n",
      "Facebook     0.0\n",
      "Instagram    1.0\n",
      "Twitter      0.5\n",
      "YouTube      1.0\n",
      "Name: flagged, dtype: float64\n"
     ]
    },
    {
     "data": {
      "image/png": "[encoded data removed]",
      "text/plain": [
       "<Figure size 640x480 with 1 Axes>"
      ]
     },
     "metadata": {},
     "output_type": "display_data"
    }
   ],
   "source": [
    "flag_rate = data[\"flagged\"].mean()\n",
    "print(f\"Flagged rate: {flag_rate*100:.2f}%\")\n",
    "\n",
    "by_platform = data.groupby(\"platform\")[\"flagged\"].mean()\n",
    "print(\"\\nFlag rate by platform:\\n\", by_platform)\n",
    "\n",
    "# Plot bar chart\n",
    "by_platform.plot(kind='bar', title=\"Flag Rate by Platform\", color='red')\n",
    "plt.ylabel(\"Flag Rate\")\n",
    "plt.show()\n"
   ]
  },
  {
   "cell_type": "code",
   "execution_count": 7,
   "id": "6ce7e46e-785c-49d1-9590-a861a889ee37",
   "metadata": {},
   "outputs": [
    {
     "name": "stdout",
     "output_type": "stream",
     "text": [
      "Flagged results saved as anti_india_flagged_results.csv\n"
     ]
    }
   ],
   "source": [
    "flagged = data[data[\"flagged\"]].copy()\n",
    "flagged.to_csv(\"anti_india_flagged_results.csv\", index=False)\n",
    "print(\"Flagged results saved as anti_india_flagged_results.csv\")\n"
   ]
  },
  {
   "cell_type": "code",
   "execution_count": null,
   "id": "354bee60-cdc4-4c0b-b12d-4fa684fa8933",
   "metadata": {},
   "outputs": [],
   "source": []
  }
 ],
 "metadata": {
  "kernelspec": {
   "display_name": "Python 3 (ipykernel)",
   "language": "python",
   "name": "python3"
  },
  "language_info": {
   "codemirror_mode": {
    "name": "ipython",
    "version": 3
   },
   "file_extension": ".py",
   "mimetype": "text/x-python",
   "name": "python",
   "nbconvert_exporter": "python",
   "pygments_lexer": "ipython3",
   "version": "3.13.7"
  }
 },
 "nbformat": 4,
 "nbformat_minor": 5
}
