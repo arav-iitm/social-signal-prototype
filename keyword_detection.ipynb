{
 "cells": [
  {
   "cell_type": "code",
   "execution_count": 1,
   "id": "f5b5f04c-e41f-469d-ba92-8e348231fe84",
   "metadata": {},
   "outputs": [
    {
     "name": "stdout",
     "output_type": "stream",
     "text": [
      "Libraries imported successfully!\n"
     ]
    }
   ],
   "source": [
    "import pandas as pd\n",
    "import regex as re\n",
    "import matplotlib.pyplot as plt\n",
    "import nltk\n",
    "\n",
    "# Download NLTK stopwords (optional for later NLP use)\n",
    "nltk.download('stopwords', quiet=True)\n",
    "\n",
    "print(\"Libraries imported successfully!\")\n"
   ]
  },
  {
   "cell_type": "code",
   "execution_count": 2,
   "id": "fa550919-eec2-4e0f-9d9c-38ea13989621",
   "metadata": {},
   "outputs": [
    {
     "name": "stdout",
     "output_type": "stream",
     "text": [
      "Keyword list loaded: ['mdma', 'lsd', 'mephedrone', 'ecstasy', 'ganja', 'weed', 'stuff', 'gear', 'party pills', '💊', '💉', '🔥 deal']\n"
     ]
    }
   ],
   "source": [
    "# List of suspicious keywords and emojis\n",
    "KEYWORDS = [\n",
    "    \"mdma\",\"lsd\",\"mephedrone\",\"ecstasy\",\"ganja\",\"weed\",\n",
    "    \"stuff\",\"gear\",\"party pills\",\"💊\",\"💉\",\"🔥 deal\"\n",
    "]\n",
    "\n",
    "# Normalize keywords to lowercase\n",
    "KEYWORDS = [k.lower() for k in KEYWORDS]\n",
    "print(\"Keyword list loaded:\", KEYWORDS)\n"
   ]
  },
  {
   "cell_type": "code",
   "execution_count": 3,
   "id": "ead4eb61-2dc0-4318-8831-7c9419e8652a",
   "metadata": {},
   "outputs": [
    {
     "data": {
      "text/html": [
       "<div>\n",
       "<style scoped>\n",
       "    .dataframe tbody tr th:only-of-type {\n",
       "        vertical-align: middle;\n",
       "    }\n",
       "\n",
       "    .dataframe tbody tr th {\n",
       "        vertical-align: top;\n",
       "    }\n",
       "\n",
       "    .dataframe thead th {\n",
       "        text-align: right;\n",
       "    }\n",
       "</style>\n",
       "<table border=\"1\" class=\"dataframe\">\n",
       "  <thead>\n",
       "    <tr style=\"text-align: right;\">\n",
       "      <th></th>\n",
       "      <th>id</th>\n",
       "      <th>platform</th>\n",
       "      <th>message</th>\n",
       "    </tr>\n",
       "  </thead>\n",
       "  <tbody>\n",
       "    <tr>\n",
       "      <th>0</th>\n",
       "      <td>1</td>\n",
       "      <td>Telegram</td>\n",
       "      <td>Fresh MDMA 💊 — DM for price</td>\n",
       "    </tr>\n",
       "    <tr>\n",
       "      <th>1</th>\n",
       "      <td>2</td>\n",
       "      <td>Instagram</td>\n",
       "      <td>Party tonight? legit stuff only</td>\n",
       "    </tr>\n",
       "    <tr>\n",
       "      <th>2</th>\n",
       "      <td>3</td>\n",
       "      <td>Telegram</td>\n",
       "      <td>Best LSD tabs in city, quick drop</td>\n",
       "    </tr>\n",
       "    <tr>\n",
       "      <th>3</th>\n",
       "      <td>4</td>\n",
       "      <td>WhatsApp</td>\n",
       "      <td>Tea at 6? bring snacks</td>\n",
       "    </tr>\n",
       "    <tr>\n",
       "      <th>4</th>\n",
       "      <td>5</td>\n",
       "      <td>Instagram</td>\n",
       "      <td>🔥 deal on party pills - limited</td>\n",
       "    </tr>\n",
       "  </tbody>\n",
       "</table>\n",
       "</div>"
      ],
      "text/plain": [
       "   id   platform                            message\n",
       "0   1   Telegram        Fresh MDMA 💊 — DM for price\n",
       "1   2  Instagram    Party tonight? legit stuff only\n",
       "2   3   Telegram  Best LSD tabs in city, quick drop\n",
       "3   4   WhatsApp             Tea at 6? bring snacks\n",
       "4   5  Instagram    🔥 deal on party pills - limited"
      ]
     },
     "execution_count": 3,
     "metadata": {},
     "output_type": "execute_result"
    }
   ],
   "source": [
    "data = pd.DataFrame({\n",
    "    \"id\":[1,2,3,4,5],\n",
    "    \"platform\":[\"Telegram\",\"Instagram\",\"Telegram\",\"WhatsApp\",\"Instagram\"],\n",
    "    \"message\":[\n",
    "        \"Fresh MDMA 💊 — DM for price\",\n",
    "        \"Party tonight? legit stuff only\",\n",
    "        \"Best LSD tabs in city, quick drop\",\n",
    "        \"Tea at 6? bring snacks\",             # benign message\n",
    "        \"🔥 deal on party pills - limited\"\n",
    "    ]\n",
    "})\n",
    "data\n"
   ]
  },
  {
   "cell_type": "code",
   "execution_count": 4,
   "id": "2acb959c-dd2e-490b-9ec8-d289099e2aee",
   "metadata": {},
   "outputs": [],
   "source": [
    "def normalize(text: str) -> str:\n",
    "    \"\"\"Convert text to lowercase and remove extra spaces.\"\"\"\n",
    "    return re.sub(r\"\\s+\", \" \", text.casefold()).strip()\n",
    "\n",
    "def spaced_variant(word: str) -> str:\n",
    "    r\"\"\"Handles spaced/obfuscated keywords: party -> p\\W*a\\W*r\\W*t\\W*y\"\"\"\n",
    "    return r\"\".join([re.escape(ch) + r\"\\W*\" for ch in word])\n",
    "\n",
    "def detect_terms(text: str, keywords=KEYWORDS):\n",
    "    \"\"\"Return a list of detected keywords in the text.\"\"\"\n",
    "    t = normalize(text)\n",
    "    hits = set()\n",
    "    for kw in keywords:\n",
    "        if kw in t:\n",
    "            hits.add(kw)\n",
    "        else:\n",
    "            if re.search(spaced_variant(kw), t, flags=re.I):\n",
    "                hits.add(kw)\n",
    "    return sorted(hits)\n"
   ]
  },
  {
   "cell_type": "code",
   "execution_count": 5,
   "id": "a2d130ee-ae7a-4e6c-acad-33efe4fa52e5",
   "metadata": {},
   "outputs": [
    {
     "data": {
      "text/html": [
       "<div>\n",
       "<style scoped>\n",
       "    .dataframe tbody tr th:only-of-type {\n",
       "        vertical-align: middle;\n",
       "    }\n",
       "\n",
       "    .dataframe tbody tr th {\n",
       "        vertical-align: top;\n",
       "    }\n",
       "\n",
       "    .dataframe thead th {\n",
       "        text-align: right;\n",
       "    }\n",
       "</style>\n",
       "<table border=\"1\" class=\"dataframe\">\n",
       "  <thead>\n",
       "    <tr style=\"text-align: right;\">\n",
       "      <th></th>\n",
       "      <th>id</th>\n",
       "      <th>platform</th>\n",
       "      <th>message</th>\n",
       "      <th>matches</th>\n",
       "      <th>flagged</th>\n",
       "    </tr>\n",
       "  </thead>\n",
       "  <tbody>\n",
       "    <tr>\n",
       "      <th>0</th>\n",
       "      <td>1</td>\n",
       "      <td>Telegram</td>\n",
       "      <td>Fresh MDMA 💊 — DM for price</td>\n",
       "      <td>[mdma, 💊]</td>\n",
       "      <td>True</td>\n",
       "    </tr>\n",
       "    <tr>\n",
       "      <th>1</th>\n",
       "      <td>2</td>\n",
       "      <td>Instagram</td>\n",
       "      <td>Party tonight? legit stuff only</td>\n",
       "      <td>[stuff]</td>\n",
       "      <td>True</td>\n",
       "    </tr>\n",
       "    <tr>\n",
       "      <th>2</th>\n",
       "      <td>3</td>\n",
       "      <td>Telegram</td>\n",
       "      <td>Best LSD tabs in city, quick drop</td>\n",
       "      <td>[lsd]</td>\n",
       "      <td>True</td>\n",
       "    </tr>\n",
       "    <tr>\n",
       "      <th>3</th>\n",
       "      <td>4</td>\n",
       "      <td>WhatsApp</td>\n",
       "      <td>Tea at 6? bring snacks</td>\n",
       "      <td>[]</td>\n",
       "      <td>False</td>\n",
       "    </tr>\n",
       "    <tr>\n",
       "      <th>4</th>\n",
       "      <td>5</td>\n",
       "      <td>Instagram</td>\n",
       "      <td>🔥 deal on party pills - limited</td>\n",
       "      <td>[party pills, 🔥 deal]</td>\n",
       "      <td>True</td>\n",
       "    </tr>\n",
       "  </tbody>\n",
       "</table>\n",
       "</div>"
      ],
      "text/plain": [
       "   id   platform                            message                matches  \\\n",
       "0   1   Telegram        Fresh MDMA 💊 — DM for price              [mdma, 💊]   \n",
       "1   2  Instagram    Party tonight? legit stuff only                [stuff]   \n",
       "2   3   Telegram  Best LSD tabs in city, quick drop                  [lsd]   \n",
       "3   4   WhatsApp             Tea at 6? bring snacks                     []   \n",
       "4   5  Instagram    🔥 deal on party pills - limited  [party pills, 🔥 deal]   \n",
       "\n",
       "   flagged  \n",
       "0     True  \n",
       "1     True  \n",
       "2     True  \n",
       "3    False  \n",
       "4     True  "
      ]
     },
     "execution_count": 5,
     "metadata": {},
     "output_type": "execute_result"
    }
   ],
   "source": [
    "data[\"matches\"] = data[\"message\"].apply(detect_terms)\n",
    "data[\"flagged\"] = data[\"matches\"].apply(lambda x: len(x) > 0)\n",
    "data\n"
   ]
  },
  {
   "cell_type": "code",
   "execution_count": 6,
   "id": "d16e2787-9943-441f-981d-3322f5264bae",
   "metadata": {},
   "outputs": [
    {
     "name": "stdout",
     "output_type": "stream",
     "text": [
      "Flagged rate: 80.00%\n",
      "\n",
      "Flag rate by platform:\n",
      " platform\n",
      "Instagram    1.0\n",
      "Telegram     1.0\n",
      "WhatsApp     0.0\n",
      "Name: flagged, dtype: float64\n"
     ]
    },
    {
     "data": {
      "image/png": "[encoded data removed]",
      "text/plain": [
       "<Figure size 640x480 with 1 Axes>"
      ]
     },
     "metadata": {},
     "output_type": "display_data"
    }
   ],
   "source": [
    "flag_rate = data[\"flagged\"].mean()\n",
    "print(f\"Flagged rate: {flag_rate*100:.2f}%\")\n",
    "\n",
    "by_platform = data.groupby(\"platform\")[\"flagged\"].mean()\n",
    "print(\"\\nFlag rate by platform:\\n\", by_platform)\n",
    "\n",
    "# Plot bar chart\n",
    "by_platform.plot(kind='bar', title=\"Flag Rate by Platform\", color='orange')\n",
    "plt.ylabel(\"Flag Rate\")\n",
    "plt.show()\n"
   ]
  },
  {
   "cell_type": "code",
   "execution_count": 7,
   "id": "2385ee79-1a2a-40af-9ca8-e165346b20f1",
   "metadata": {},
   "outputs": [
    {
     "name": "stdout",
     "output_type": "stream",
     "text": [
      "Flagged results saved as flagged_results.csv\n"
     ]
    }
   ],
   "source": [
    "flagged = data[data[\"flagged\"]].copy()\n",
    "flagged.to_csv(\"flagged_results.csv\", index=False)\n",
    "print(\"Flagged results saved as flagged_results.csv\")\n"
   ]
  },
  {
   "cell_type": "code",
   "execution_count": null,
   "id": "1918b2de-a84b-4179-991c-b5f1a22eebfe",
   "metadata": {},
   "outputs": [],
   "source": []
  }
 ],
 "metadata": {
  "kernelspec": {
   "display_name": "Python 3 (ipykernel)",
   "language": "python",
   "name": "python3"
  },
  "language_info": {
   "codemirror_mode": {
    "name": "ipython",
    "version": 3
   },
   "file_extension": ".py",
   "mimetype": "text/x-python",
   "name": "python",
   "nbconvert_exporter": "python",
   "pygments_lexer": "ipython3",
   "version": "3.13.7"
  }
 },
 "nbformat": 4,
 "nbformat_minor": 5
}
